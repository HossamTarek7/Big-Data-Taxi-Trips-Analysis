{
  "cells": [
    {
      "cell_type": "markdown",
      "source": [
        "## Install Snowflake packages"
      ],
      "metadata": {
        "id": "l3c81hJs6JFQ"
      }
    },
    {
      "cell_type": "code",
      "source": [
        "!pip install snowflake\n",
        "!pip install snowflake-snowpark-python"
      ],
      "metadata": {
        "colab": {
          "base_uri": "https://localhost:8080/"
        },
        "id": "jlad9UzH01_-",
        "outputId": "9bd074af-40e5-40bb-befa-4104d0a2d5cc"
      },
      "execution_count": null,
      "outputs": [
        {
          "output_type": "stream",
          "name": "stdout",
          "text": [
            "Requirement already satisfied: snowflake in /usr/local/lib/python3.10/dist-packages (0.8.0)\n",
            "Requirement already satisfied: snowflake-core==0.8.0 in /usr/local/lib/python3.10/dist-packages (from snowflake) (0.8.0)\n",
            "Requirement already satisfied: snowflake-legacy in /usr/local/lib/python3.10/dist-packages (from snowflake) (0.8.0)\n",
            "Requirement already satisfied: atpublic>=4 in /usr/local/lib/python3.10/dist-packages (from snowflake-core==0.8.0->snowflake) (4.1.0)\n",
            "Requirement already satisfied: pydantic>=1.10.7 in /usr/local/lib/python3.10/dist-packages (from snowflake-core==0.8.0->snowflake) (2.7.1)\n",
            "Requirement already satisfied: python-dateutil>=2.8.2 in /usr/local/lib/python3.10/dist-packages (from snowflake-core==0.8.0->snowflake) (2.8.2)\n",
            "Requirement already satisfied: snowflake-snowpark-python<2.0.0,>=1.5.0 in /usr/local/lib/python3.10/dist-packages (from snowflake-core==0.8.0->snowflake) (1.16.0)\n",
            "Requirement already satisfied: urllib3 in /usr/local/lib/python3.10/dist-packages (from snowflake-core==0.8.0->snowflake) (2.0.7)\n",
            "Requirement already satisfied: annotated-types>=0.4.0 in /usr/local/lib/python3.10/dist-packages (from pydantic>=1.10.7->snowflake-core==0.8.0->snowflake) (0.6.0)\n",
            "Requirement already satisfied: pydantic-core==2.18.2 in /usr/local/lib/python3.10/dist-packages (from pydantic>=1.10.7->snowflake-core==0.8.0->snowflake) (2.18.2)\n",
            "Requirement already satisfied: typing-extensions>=4.6.1 in /usr/local/lib/python3.10/dist-packages (from pydantic>=1.10.7->snowflake-core==0.8.0->snowflake) (4.11.0)\n",
            "Requirement already satisfied: six>=1.5 in /usr/local/lib/python3.10/dist-packages (from python-dateutil>=2.8.2->snowflake-core==0.8.0->snowflake) (1.16.0)\n",
            "Requirement already satisfied: setuptools>=40.6.0 in /usr/local/lib/python3.10/dist-packages (from snowflake-snowpark-python<2.0.0,>=1.5.0->snowflake-core==0.8.0->snowflake) (67.7.2)\n",
            "Requirement already satisfied: wheel in /usr/local/lib/python3.10/dist-packages (from snowflake-snowpark-python<2.0.0,>=1.5.0->snowflake-core==0.8.0->snowflake) (0.43.0)\n",
            "Requirement already satisfied: snowflake-connector-python<4.0.0,>=3.10.0 in /usr/local/lib/python3.10/dist-packages (from snowflake-snowpark-python<2.0.0,>=1.5.0->snowflake-core==0.8.0->snowflake) (3.10.0)\n",
            "Requirement already satisfied: pyyaml in /usr/local/lib/python3.10/dist-packages (from snowflake-snowpark-python<2.0.0,>=1.5.0->snowflake-core==0.8.0->snowflake) (6.0.1)\n",
            "Requirement already satisfied: cloudpickle!=2.1.0,!=2.2.0,<=2.2.1,>=1.6.0 in /usr/local/lib/python3.10/dist-packages (from snowflake-snowpark-python<2.0.0,>=1.5.0->snowflake-core==0.8.0->snowflake) (2.2.1)\n",
            "Requirement already satisfied: asn1crypto<2.0.0,>0.24.0 in /usr/local/lib/python3.10/dist-packages (from snowflake-connector-python<4.0.0,>=3.10.0->snowflake-snowpark-python<2.0.0,>=1.5.0->snowflake-core==0.8.0->snowflake) (1.5.1)\n",
            "Requirement already satisfied: cffi<2.0.0,>=1.9 in /usr/local/lib/python3.10/dist-packages (from snowflake-connector-python<4.0.0,>=3.10.0->snowflake-snowpark-python<2.0.0,>=1.5.0->snowflake-core==0.8.0->snowflake) (1.16.0)\n",
            "Requirement already satisfied: cryptography<43.0.0,>=3.1.0 in /usr/local/lib/python3.10/dist-packages (from snowflake-connector-python<4.0.0,>=3.10.0->snowflake-snowpark-python<2.0.0,>=1.5.0->snowflake-core==0.8.0->snowflake) (42.0.5)\n",
            "Requirement already satisfied: pyOpenSSL<25.0.0,>=16.2.0 in /usr/local/lib/python3.10/dist-packages (from snowflake-connector-python<4.0.0,>=3.10.0->snowflake-snowpark-python<2.0.0,>=1.5.0->snowflake-core==0.8.0->snowflake) (24.1.0)\n",
            "Requirement already satisfied: pyjwt<3.0.0 in /usr/lib/python3/dist-packages (from snowflake-connector-python<4.0.0,>=3.10.0->snowflake-snowpark-python<2.0.0,>=1.5.0->snowflake-core==0.8.0->snowflake) (2.3.0)\n",
            "Requirement already satisfied: pytz in /usr/local/lib/python3.10/dist-packages (from snowflake-connector-python<4.0.0,>=3.10.0->snowflake-snowpark-python<2.0.0,>=1.5.0->snowflake-core==0.8.0->snowflake) (2023.4)\n",
            "Requirement already satisfied: requests<3.0.0 in /usr/local/lib/python3.10/dist-packages (from snowflake-connector-python<4.0.0,>=3.10.0->snowflake-snowpark-python<2.0.0,>=1.5.0->snowflake-core==0.8.0->snowflake) (2.31.0)\n",
            "Requirement already satisfied: packaging in /usr/local/lib/python3.10/dist-packages (from snowflake-connector-python<4.0.0,>=3.10.0->snowflake-snowpark-python<2.0.0,>=1.5.0->snowflake-core==0.8.0->snowflake) (24.0)\n",
            "Requirement already satisfied: charset-normalizer<4,>=2 in /usr/local/lib/python3.10/dist-packages (from snowflake-connector-python<4.0.0,>=3.10.0->snowflake-snowpark-python<2.0.0,>=1.5.0->snowflake-core==0.8.0->snowflake) (3.3.2)\n",
            "Requirement already satisfied: idna<4,>=2.5 in /usr/local/lib/python3.10/dist-packages (from snowflake-connector-python<4.0.0,>=3.10.0->snowflake-snowpark-python<2.0.0,>=1.5.0->snowflake-core==0.8.0->snowflake) (3.7)\n",
            "Requirement already satisfied: certifi>=2017.4.17 in /usr/local/lib/python3.10/dist-packages (from snowflake-connector-python<4.0.0,>=3.10.0->snowflake-snowpark-python<2.0.0,>=1.5.0->snowflake-core==0.8.0->snowflake) (2024.2.2)\n",
            "Requirement already satisfied: filelock<4,>=3.5 in /usr/local/lib/python3.10/dist-packages (from snowflake-connector-python<4.0.0,>=3.10.0->snowflake-snowpark-python<2.0.0,>=1.5.0->snowflake-core==0.8.0->snowflake) (3.14.0)\n",
            "Requirement already satisfied: sortedcontainers>=2.4.0 in /usr/local/lib/python3.10/dist-packages (from snowflake-connector-python<4.0.0,>=3.10.0->snowflake-snowpark-python<2.0.0,>=1.5.0->snowflake-core==0.8.0->snowflake) (2.4.0)\n",
            "Requirement already satisfied: platformdirs<5.0.0,>=2.6.0 in /usr/local/lib/python3.10/dist-packages (from snowflake-connector-python<4.0.0,>=3.10.0->snowflake-snowpark-python<2.0.0,>=1.5.0->snowflake-core==0.8.0->snowflake) (4.2.1)\n",
            "Requirement already satisfied: tomlkit in /usr/local/lib/python3.10/dist-packages (from snowflake-connector-python<4.0.0,>=3.10.0->snowflake-snowpark-python<2.0.0,>=1.5.0->snowflake-core==0.8.0->snowflake) (0.12.5)\n",
            "Requirement already satisfied: pycparser in /usr/local/lib/python3.10/dist-packages (from cffi<2.0.0,>=1.9->snowflake-connector-python<4.0.0,>=3.10.0->snowflake-snowpark-python<2.0.0,>=1.5.0->snowflake-core==0.8.0->snowflake) (2.22)\n",
            "Requirement already satisfied: snowflake-snowpark-python in /usr/local/lib/python3.10/dist-packages (1.16.0)\n",
            "Requirement already satisfied: setuptools>=40.6.0 in /usr/local/lib/python3.10/dist-packages (from snowflake-snowpark-python) (67.7.2)\n",
            "Requirement already satisfied: wheel in /usr/local/lib/python3.10/dist-packages (from snowflake-snowpark-python) (0.43.0)\n",
            "Requirement already satisfied: snowflake-connector-python<4.0.0,>=3.10.0 in /usr/local/lib/python3.10/dist-packages (from snowflake-snowpark-python) (3.10.0)\n",
            "Requirement already satisfied: typing-extensions<5.0.0,>=4.1.0 in /usr/local/lib/python3.10/dist-packages (from snowflake-snowpark-python) (4.11.0)\n",
            "Requirement already satisfied: pyyaml in /usr/local/lib/python3.10/dist-packages (from snowflake-snowpark-python) (6.0.1)\n",
            "Requirement already satisfied: cloudpickle!=2.1.0,!=2.2.0,<=2.2.1,>=1.6.0 in /usr/local/lib/python3.10/dist-packages (from snowflake-snowpark-python) (2.2.1)\n",
            "Requirement already satisfied: asn1crypto<2.0.0,>0.24.0 in /usr/local/lib/python3.10/dist-packages (from snowflake-connector-python<4.0.0,>=3.10.0->snowflake-snowpark-python) (1.5.1)\n",
            "Requirement already satisfied: cffi<2.0.0,>=1.9 in /usr/local/lib/python3.10/dist-packages (from snowflake-connector-python<4.0.0,>=3.10.0->snowflake-snowpark-python) (1.16.0)\n",
            "Requirement already satisfied: cryptography<43.0.0,>=3.1.0 in /usr/local/lib/python3.10/dist-packages (from snowflake-connector-python<4.0.0,>=3.10.0->snowflake-snowpark-python) (42.0.5)\n",
            "Requirement already satisfied: pyOpenSSL<25.0.0,>=16.2.0 in /usr/local/lib/python3.10/dist-packages (from snowflake-connector-python<4.0.0,>=3.10.0->snowflake-snowpark-python) (24.1.0)\n",
            "Requirement already satisfied: pyjwt<3.0.0 in /usr/lib/python3/dist-packages (from snowflake-connector-python<4.0.0,>=3.10.0->snowflake-snowpark-python) (2.3.0)\n",
            "Requirement already satisfied: pytz in /usr/local/lib/python3.10/dist-packages (from snowflake-connector-python<4.0.0,>=3.10.0->snowflake-snowpark-python) (2023.4)\n",
            "Requirement already satisfied: requests<3.0.0 in /usr/local/lib/python3.10/dist-packages (from snowflake-connector-python<4.0.0,>=3.10.0->snowflake-snowpark-python) (2.31.0)\n",
            "Requirement already satisfied: packaging in /usr/local/lib/python3.10/dist-packages (from snowflake-connector-python<4.0.0,>=3.10.0->snowflake-snowpark-python) (24.0)\n",
            "Requirement already satisfied: charset-normalizer<4,>=2 in /usr/local/lib/python3.10/dist-packages (from snowflake-connector-python<4.0.0,>=3.10.0->snowflake-snowpark-python) (3.3.2)\n",
            "Requirement already satisfied: idna<4,>=2.5 in /usr/local/lib/python3.10/dist-packages (from snowflake-connector-python<4.0.0,>=3.10.0->snowflake-snowpark-python) (3.7)\n",
            "Requirement already satisfied: certifi>=2017.4.17 in /usr/local/lib/python3.10/dist-packages (from snowflake-connector-python<4.0.0,>=3.10.0->snowflake-snowpark-python) (2024.2.2)\n",
            "Requirement already satisfied: filelock<4,>=3.5 in /usr/local/lib/python3.10/dist-packages (from snowflake-connector-python<4.0.0,>=3.10.0->snowflake-snowpark-python) (3.14.0)\n",
            "Requirement already satisfied: sortedcontainers>=2.4.0 in /usr/local/lib/python3.10/dist-packages (from snowflake-connector-python<4.0.0,>=3.10.0->snowflake-snowpark-python) (2.4.0)\n",
            "Requirement already satisfied: platformdirs<5.0.0,>=2.6.0 in /usr/local/lib/python3.10/dist-packages (from snowflake-connector-python<4.0.0,>=3.10.0->snowflake-snowpark-python) (4.2.1)\n",
            "Requirement already satisfied: tomlkit in /usr/local/lib/python3.10/dist-packages (from snowflake-connector-python<4.0.0,>=3.10.0->snowflake-snowpark-python) (0.12.5)\n",
            "Requirement already satisfied: pycparser in /usr/local/lib/python3.10/dist-packages (from cffi<2.0.0,>=1.9->snowflake-connector-python<4.0.0,>=3.10.0->snowflake-snowpark-python) (2.22)\n",
            "Requirement already satisfied: urllib3<3,>=1.21.1 in /usr/local/lib/python3.10/dist-packages (from requests<3.0.0->snowflake-connector-python<4.0.0,>=3.10.0->snowflake-snowpark-python) (2.0.7)\n"
          ]
        }
      ]
    },
    {
      "cell_type": "code",
      "execution_count": null,
      "metadata": {
        "metadata": {},
        "id": "E0LMTmKk0mQ2"
      },
      "outputs": [],
      "source": [
        "from snowflake.snowpark.session import Session\n",
        "import sys\n",
        "from snowflake.snowpark.functions import col,is_null, lit, sum , max ,mean ,count\n",
        "# from pyspark.sql.functions import first, col, months_between, lit, sum, max\n"
      ]
    },
    {
      "cell_type": "markdown",
      "source": [
        "## Connection parameters"
      ],
      "metadata": {
        "id": "Qhm4Zxbb6QJH"
      }
    },
    {
      "cell_type": "code",
      "execution_count": null,
      "metadata": {
        "metadata": {},
        "id": "Do-KVgWq0mQ4"
      },
      "outputs": [],
      "source": [
        "snowflake_connection_parameters = {\n",
        "   \"user\":\"BIGDATA\",\n",
        "    \"account\":\"BNYTXUB-TH07367\",\n",
        "    \"password\":\"Ffbuxv5.RsM.ZQm\",\n",
        "    \"database\":\"BIG_DATA_PROJECT\",\n",
        "    \"schema\":\"PUBLIC\"\n",
        "}\n",
        "TABLE_NAME=\"TAXI_TRIPS\""
      ]
    },
    {
      "cell_type": "code",
      "execution_count": null,
      "metadata": {
        "metadata": {},
        "id": "2-sCC-Oi0mQ4"
      },
      "outputs": [],
      "source": [
        "snowpark_session = Session.builder.configs(snowflake_connection_parameters).create()\n"
      ]
    },
    {
      "cell_type": "code",
      "execution_count": null,
      "metadata": {
        "colab": {
          "base_uri": "https://localhost:8080/"
        },
        "id": "_R4J_CTY0mQ5",
        "outputId": "677ab8de-34d0-4252-b0c3-837fc3409447"
      },
      "outputs": [
        {
          "output_type": "stream",
          "name": "stdout",
          "text": [
            "------------------------------------\n",
            "|\"status\"                          |\n",
            "------------------------------------\n",
            "|Statement executed successfully.  |\n",
            "------------------------------------\n",
            "\n"
          ]
        }
      ],
      "source": [
        "snowpark_session.sql(\"USE DATABASE BIG_DATA_PROJECT\").show()"
      ]
    },
    {
      "cell_type": "code",
      "execution_count": null,
      "metadata": {
        "colab": {
          "base_uri": "https://localhost:8080/"
        },
        "id": "1YLGv7YF0mQ5",
        "outputId": "f5716e49-8c54-41d7-e60c-8f693191f60e"
      },
      "outputs": [
        {
          "output_type": "stream",
          "name": "stdout",
          "text": [
            "--------------------------------------------------------------------------------------------------------------------------------------------------------------------------------------------------------------------------------------------------------------------------------------------------------------------------------------------------------------------------------------\n",
            "|\"VendorID\"  |\"tpep_pickup_datetime\"  |\"tpep_dropoff_datetime\"  |\"passenger_count\"  |\"trip_distance\"  |\"RatecodeID\"  |\"store_and_fwd_flag\"  |\"PULocationID\"  |\"DOLocationID\"  |\"payment_type\"  |\"fare_amount\"  |\"extra\"  |\"mta_tax\"  |\"tip_amount\"  |\"tolls_amount\"  |\"improvement_surcharge\"  |\"total_amount\"  |\"congestion_surcharge\"  |\"PICKUP_TIMESTAMP\"   |\"DROPOFF_TIMESTAMP\"  |\n",
            "--------------------------------------------------------------------------------------------------------------------------------------------------------------------------------------------------------------------------------------------------------------------------------------------------------------------------------------------------------------------------------------\n",
            "|2.0         |1609549930000000000     |1609550701000000000      |1.0                |1.87             |1.0           |N                     |90              |148             |1.0             |10.0           |1.0      |0.5        |2.86          |0.0             |0.3                      |17.16           |2.5                     |2021-01-02 01:12:10  |2021-01-02 01:25:01  |\n",
            "|2.0         |1609548248000000000     |1609549136000000000      |1.0                |2.32             |1.0           |N                     |170             |148             |2.0             |11.5           |1.0      |0.5        |0.0           |0.0             |0.3                      |15.8            |2.5                     |2021-01-02 00:44:08  |2021-01-02 00:58:56  |\n",
            "|2.0         |1609546920000000000     |1609547810000000000      |1.0                |1.56             |1.0           |N                     |142             |161             |2.0             |10.5           |1.0      |0.5        |0.0           |0.0             |0.3                      |14.8            |2.5                     |2021-01-02 00:22:00  |2021-01-02 00:36:50  |\n",
            "|2.0         |1596221441000000000     |1596221652000000000      |1.0                |0.72             |1.0           |N                     |236             |43              |2.0             |5.0            |1.0      |0.5        |0.0           |0.0             |0.3                      |9.3             |2.5                     |2020-07-31 18:50:41  |2020-07-31 18:54:12  |\n",
            "|1.0         |1595937580000000000     |1595938977000000000      |1.0                |0.0              |1.0           |N                     |232             |42              |1.0             |28.2           |0.0      |0.5        |0.0           |0.0             |0.3                      |29.0            |0.0                     |2020-07-28 11:59:40  |2020-07-28 12:22:57  |\n",
            "|1.0         |1595936269000000000     |1595937561000000000      |1.0                |0.0              |1.0           |N                     |141             |157             |1.0             |22.2           |0.0      |0.5        |0.0           |0.0             |0.3                      |23.0            |0.0                     |2020-07-28 11:37:49  |2020-07-28 11:59:21  |\n",
            "|1.0         |1595933684000000000     |1595935372000000000      |1.0                |0.0              |1.0           |N                     |170             |61              |1.0             |26.2           |0.0      |0.5        |0.0           |0.0             |0.3                      |27.0            |0.0                     |2020-07-28 10:54:44  |2020-07-28 11:22:52  |\n",
            "|1.0         |1595930948000000000     |1595930950000000000      |1.0                |0.0              |1.0           |N                     |26              |26              |3.0             |2.5            |0.0      |0.5        |0.0           |0.0             |0.3                      |3.3             |0.0                     |2020-07-28 10:09:08  |2020-07-28 10:09:10  |\n",
            "|1.0         |1595926979000000000     |1595927299000000000      |0.0                |0.5              |1.0           |N                     |43              |43              |2.0             |5.5            |0.0      |0.5        |0.0           |0.0             |0.3                      |6.3             |0.0                     |2020-07-28 09:02:59  |2020-07-28 09:08:19  |\n",
            "|NULL        |1595256120000000000     |1595259360000000000      |NULL               |14.87            |NULL          |NULL                  |190             |42              |NULL            |46.45          |0.0      |0.5        |2.75          |0.0             |0.3                      |50.0            |0.0                     |2020-07-20 14:42:00  |2020-07-20 15:36:00  |\n",
            "--------------------------------------------------------------------------------------------------------------------------------------------------------------------------------------------------------------------------------------------------------------------------------------------------------------------------------------------------------------------------------------\n",
            "\n"
          ]
        }
      ],
      "source": [
        "query=f\"\"\" SELECT * FROM  {TABLE_NAME}\n",
        "ORDER BY DROPOFF_TIMESTAMP DESC\n",
        "limit 10\n",
        "\"\"\"\n",
        "snowpark_session.sql(query).show()"
      ]
    },
    {
      "cell_type": "code",
      "execution_count": null,
      "metadata": {
        "colab": {
          "base_uri": "https://localhost:8080/"
        },
        "id": "iDr8-gPK0mQ6",
        "outputId": "c3154948-3de0-422b-c9d6-cbe7fc236bb5"
      },
      "outputs": [
        {
          "output_type": "stream",
          "name": "stdout",
          "text": [
            "Memory usage (bytes):  48\n",
            "11916662\n"
          ]
        }
      ],
      "source": [
        "taxi_df = snowpark_session.table(TABLE_NAME)\n",
        "print(\"Memory usage (bytes): \", sys.getsizeof(taxi_df))\n",
        "numRows = taxi_df.count()\n",
        "\n",
        "print(numRows)"
      ]
    },
    {
      "cell_type": "code",
      "execution_count": null,
      "metadata": {
        "colab": {
          "base_uri": "https://localhost:8080/"
        },
        "id": "6w5gtiTC0mQ6",
        "outputId": "dfb46e07-2119-4b23-8d56-5b14f61fc2e7"
      },
      "outputs": [
        {
          "output_type": "execute_result",
          "data": {
            "text/plain": [
              "[('\"VendorID\"', 'double'),\n",
              " ('\"tpep_pickup_datetime\"', 'bigint'),\n",
              " ('\"tpep_dropoff_datetime\"', 'bigint'),\n",
              " ('\"passenger_count\"', 'double'),\n",
              " ('\"trip_distance\"', 'double'),\n",
              " ('\"RatecodeID\"', 'double'),\n",
              " ('\"store_and_fwd_flag\"', 'string(16777216)'),\n",
              " ('\"PULocationID\"', 'bigint'),\n",
              " ('\"DOLocationID\"', 'bigint'),\n",
              " ('\"payment_type\"', 'double'),\n",
              " ('\"fare_amount\"', 'double'),\n",
              " ('\"extra\"', 'double'),\n",
              " ('\"mta_tax\"', 'double'),\n",
              " ('\"tip_amount\"', 'double'),\n",
              " ('\"tolls_amount\"', 'double'),\n",
              " ('\"improvement_surcharge\"', 'double'),\n",
              " ('\"total_amount\"', 'double'),\n",
              " ('\"congestion_surcharge\"', 'double'),\n",
              " ('PICKUP_TIMESTAMP', 'timestamp'),\n",
              " ('DROPOFF_TIMESTAMP', 'timestamp')]"
            ]
          },
          "metadata": {},
          "execution_count": 26
        }
      ],
      "source": [
        "taxi_df.dtypes"
      ]
    },
    {
      "cell_type": "markdown",
      "metadata": {
        "id": "cd0EQTFF0mQ9"
      },
      "source": [
        "## Cleaning Data"
      ]
    },
    {
      "cell_type": "markdown",
      "source": [
        "First remove from all column names '\"' and make all upper case"
      ],
      "metadata": {
        "id": "irLkCrkv9yYa"
      }
    },
    {
      "cell_type": "code",
      "execution_count": null,
      "metadata": {
        "id": "6BTjVt_o0mQ9",
        "outputId": "da5ee37c-cd21-4d78-d38b-c636d4027569",
        "colab": {
          "base_uri": "https://localhost:8080/"
        }
      },
      "outputs": [
        {
          "output_type": "execute_result",
          "data": {
            "text/plain": [
              "['VENDORID',\n",
              " 'TPEP_PICKUP_DATETIME',\n",
              " 'TPEP_DROPOFF_DATETIME',\n",
              " 'PASSENGER_COUNT',\n",
              " 'TRIP_DISTANCE',\n",
              " 'RATECODEID',\n",
              " 'STORE_AND_FWD_FLAG',\n",
              " 'PULOCATIONID',\n",
              " 'DOLOCATIONID',\n",
              " 'PAYMENT_TYPE',\n",
              " 'FARE_AMOUNT',\n",
              " 'EXTRA',\n",
              " 'MTA_TAX',\n",
              " 'TIP_AMOUNT',\n",
              " 'TOLLS_AMOUNT',\n",
              " 'IMPROVEMENT_SURCHARGE',\n",
              " 'TOTAL_AMOUNT',\n",
              " 'CONGESTION_SURCHARGE',\n",
              " 'PICKUP_TIMESTAMP',\n",
              " 'DROPOFF_TIMESTAMP']"
            ]
          },
          "metadata": {},
          "execution_count": 34
        }
      ],
      "source": [
        "column_names_mapper={}\n",
        "for column in taxi_df.columns:\n",
        "  column_names_mapper[column]=column.replace('\"',\"\").upper()\n",
        "\n",
        "taxi_df=taxi_df.rename(column_names_mapper)\n",
        "taxi_df.columns"
      ]
    },
    {
      "cell_type": "markdown",
      "source": [
        "get how many null values exist with columns"
      ],
      "metadata": {
        "id": "Zz-wokv3-UMa"
      }
    },
    {
      "cell_type": "code",
      "source": [
        "from snowflake.snowpark.functions import col,is_null, lit, sum , max ,mean\n",
        "taxi_df.select(sum(is_null('VENDORID').cast('int'))).toPandas().iloc[0].values[0]\n"
      ],
      "metadata": {
        "colab": {
          "base_uri": "https://localhost:8080/"
        },
        "id": "owBuMUd_C4fM",
        "outputId": "75938fae-bb50-4613-b366-407c85848f32"
      },
      "execution_count": null,
      "outputs": [
        {
          "output_type": "execute_result",
          "data": {
            "text/plain": [
              "0"
            ]
          },
          "metadata": {},
          "execution_count": 97
        }
      ]
    },
    {
      "cell_type": "code",
      "source": [
        "column_null_values={}\n",
        "\n",
        "for column in taxi_df.columns:\n",
        "  number_of_nans=taxi_df.select(sum(is_null('VENDORID').cast('int'))).toPandas().iloc[0].values[0]\n",
        "  percent_of_nans=taxi_df.select(mean(is_null('VENDORID').cast('int'))).toPandas().iloc[0].values[0]\n",
        "  column_null_values[column]=[number_of_nans,str(percent_of_nans*100)+'%']\n",
        "\n",
        "column_null_values"
      ],
      "metadata": {
        "colab": {
          "base_uri": "https://localhost:8080/"
        },
        "id": "oU1Rp31R938Q",
        "outputId": "25c49bdf-2071-428e-8359-937dadc63eca"
      },
      "execution_count": null,
      "outputs": [
        {
          "output_type": "execute_result",
          "data": {
            "text/plain": [
              "{'VENDORID': [91448, '0.767400%'],\n",
              " 'TPEP_PICKUP_DATETIME': [91448, '0.767400%'],\n",
              " 'TPEP_DROPOFF_DATETIME': [91448, '0.767400%'],\n",
              " 'PASSENGER_COUNT': [91448, '0.767400%'],\n",
              " 'TRIP_DISTANCE': [91448, '0.767400%'],\n",
              " 'RATECODEID': [91448, '0.767400%'],\n",
              " 'STORE_AND_FWD_FLAG': [91448, '0.767400%'],\n",
              " 'PULOCATIONID': [91448, '0.767400%'],\n",
              " 'DOLOCATIONID': [91448, '0.767400%'],\n",
              " 'PAYMENT_TYPE': [91448, '0.767400%'],\n",
              " 'FARE_AMOUNT': [91448, '0.767400%'],\n",
              " 'EXTRA': [91448, '0.767400%'],\n",
              " 'MTA_TAX': [91448, '0.767400%'],\n",
              " 'TIP_AMOUNT': [91448, '0.767400%'],\n",
              " 'TOLLS_AMOUNT': [91448, '0.767400%'],\n",
              " 'IMPROVEMENT_SURCHARGE': [91448, '0.767400%'],\n",
              " 'TOTAL_AMOUNT': [91448, '0.767400%'],\n",
              " 'CONGESTION_SURCHARGE': [91448, '0.767400%'],\n",
              " 'PICKUP_TIMESTAMP': [91448, '0.767400%'],\n",
              " 'DROPOFF_TIMESTAMP': [91448, '0.767400%']}"
            ]
          },
          "metadata": {},
          "execution_count": 81
        }
      ]
    },
    {
      "cell_type": "markdown",
      "source": [
        "It appears we have more than 90K+ rows all nans"
      ],
      "metadata": {
        "id": "FTahnCPPGitn"
      }
    },
    {
      "cell_type": "code",
      "execution_count": null,
      "metadata": {
        "id": "qaXTRszu0mQ9"
      },
      "outputs": [],
      "source": [
        "taxi_df=taxi_df.dropna()"
      ]
    },
    {
      "cell_type": "code",
      "execution_count": null,
      "metadata": {
        "id": "4EAU-Sb90mQ-",
        "outputId": "70793293-ac34-4129-814a-7baa50d6515b",
        "colab": {
          "base_uri": "https://localhost:8080/"
        }
      },
      "outputs": [
        {
          "output_type": "execute_result",
          "data": {
            "text/plain": [
              "11825214"
            ]
          },
          "metadata": {},
          "execution_count": 83
        }
      ],
      "source": [
        "taxi_df.count()\n"
      ]
    },
    {
      "cell_type": "code",
      "execution_count": null,
      "metadata": {
        "id": "W0uoq4BB0mQ-"
      },
      "outputs": [],
      "source": [
        "def describe_columns(column_name):\n",
        "    taxi_df.select(column_name).describe().show()\n",
        "\n",
        "numercial_columns = [\"PASSENGER_COUNT\", \"TRIP_DISTANCE\", \"FARE_AMOUNT\", \"TOTAL_AMOUNT\", \"CONGESTION_SURCHARGE\", \"IMPROVEMENT_SURCHARGE\", \"TOLLS_AMOUNT\", \"MTA_TAX\", \"TIP_AMOUNT\", \"EXTRA\"]\n",
        "def print_numerical_describe(columns) :\n",
        "    for column in columns:\n",
        "        describe_columns(column)"
      ]
    },
    {
      "cell_type": "code",
      "execution_count": null,
      "metadata": {
        "id": "G6d3KsYW0mQ-",
        "outputId": "b87004b9-57db-4ea8-e56e-e26b8562d4df",
        "colab": {
          "base_uri": "https://localhost:8080/"
        }
      },
      "outputs": [
        {
          "output_type": "stream",
          "name": "stdout",
          "text": [
            "----------------------------------\n",
            "|\"SUMMARY\"  |\"PASSENGER_COUNT\"   |\n",
            "----------------------------------\n",
            "|stddev     |1.1489607858471607  |\n",
            "|min        |0.0                 |\n",
            "|mean       |1.5104327076025854  |\n",
            "|count      |11825214.0          |\n",
            "|max        |9.0                 |\n",
            "----------------------------------\n",
            "\n",
            "----------------------------------\n",
            "|\"SUMMARY\"  |\"TRIP_DISTANCE\"     |\n",
            "----------------------------------\n",
            "|min        |-22.18              |\n",
            "|stddev     |3.710358985303801   |\n",
            "|mean       |2.8242698449262735  |\n",
            "|count      |11825214.0          |\n",
            "|max        |369.94              |\n",
            "----------------------------------\n",
            "\n",
            "----------------------------------\n",
            "|\"SUMMARY\"  |\"FARE_AMOUNT\"       |\n",
            "----------------------------------\n",
            "|min        |-1238.0             |\n",
            "|mean       |12.482792057716672  |\n",
            "|stddev     |11.76847690985343   |\n",
            "|max        |4265.0              |\n",
            "|count      |11825214.0          |\n",
            "----------------------------------\n",
            "\n",
            "----------------------------------\n",
            "|\"SUMMARY\"  |\"TOTAL_AMOUNT\"      |\n",
            "----------------------------------\n",
            "|count      |11825214.0          |\n",
            "|min        |-1242.3             |\n",
            "|mean       |18.466536907492753  |\n",
            "|stddev     |14.438881091651819  |\n",
            "|max        |4268.3              |\n",
            "----------------------------------\n",
            "\n",
            "--------------------------------------\n",
            "|\"SUMMARY\"  |\"CONGESTION_SURCHARGE\"  |\n",
            "--------------------------------------\n",
            "|mean       |2.30297959089789        |\n",
            "|stddev     |0.696283446118809       |\n",
            "|count      |11825214.0              |\n",
            "|max        |2.75                    |\n",
            "|min        |-2.5                    |\n",
            "--------------------------------------\n",
            "\n",
            "---------------------------------------\n",
            "|\"SUMMARY\"  |\"IMPROVEMENT_SURCHARGE\"  |\n",
            "---------------------------------------\n",
            "|stddev     |0.03427676470227369      |\n",
            "|mean       |0.29794131421215714      |\n",
            "|count      |11825214.0               |\n",
            "|min        |-0.3                     |\n",
            "|max        |0.3                      |\n",
            "---------------------------------------\n",
            "\n",
            "----------------------------------\n",
            "|\"SUMMARY\"  |\"TOLLS_AMOUNT\"      |\n",
            "----------------------------------\n",
            "|mean       |0.3282524781369707  |\n",
            "|min        |-38.23              |\n",
            "|stddev     |1.7149061398318926  |\n",
            "|count      |11825214.0          |\n",
            "|max        |925.5               |\n",
            "----------------------------------\n",
            "\n",
            "-----------------------------------\n",
            "|\"SUMMARY\"  |\"MTA_TAX\"            |\n",
            "-----------------------------------\n",
            "|mean       |0.49381213397068335  |\n",
            "|stddev     |0.06954595229899656  |\n",
            "|min        |-0.5                 |\n",
            "|count      |11825214.0           |\n",
            "|max        |39.51                |\n",
            "-----------------------------------\n",
            "\n",
            "----------------------------------\n",
            "|\"SUMMARY\"  |\"TIP_AMOUNT\"        |\n",
            "----------------------------------\n",
            "|stddev     |2.7198545881226286  |\n",
            "|mean       |2.223552272288688   |\n",
            "|min        |-93.0               |\n",
            "|max        |1100.0              |\n",
            "|count      |11825214.0          |\n",
            "----------------------------------\n",
            "\n",
            "----------------------------------\n",
            "|\"SUMMARY\"  |\"EXTRA\"             |\n",
            "----------------------------------\n",
            "|mean       |1.0960616915685417  |\n",
            "|stddev     |1.2510989910161765  |\n",
            "|count      |11825214.0          |\n",
            "|max        |113.01              |\n",
            "|min        |-27.0               |\n",
            "----------------------------------\n",
            "\n"
          ]
        }
      ],
      "source": [
        "print_numerical_describe(numercial_columns)"
      ]
    },
    {
      "cell_type": "code",
      "execution_count": null,
      "metadata": {
        "id": "0Lbf7LPe0mQ_",
        "outputId": "ee8f81d3-f5c0-4757-e4a9-faebd0015c80",
        "colab": {
          "base_uri": "https://localhost:8080/"
        }
      },
      "outputs": [
        {
          "output_type": "stream",
          "name": "stdout",
          "text": [
            "PASSENGER_COUNT :  0\n",
            "TRIP_DISTANCE :  13\n",
            "FARE_AMOUNT :  36898\n",
            "TOTAL_AMOUNT :  36897\n",
            "CONGESTION_SURCHARGE :  29406\n",
            "IMPROVEMENT_SURCHARGE :  36890\n",
            "TOLLS_AMOUNT :  757\n",
            "MTA_TAX :  36100\n",
            "TIP_AMOUNT :  328\n",
            "EXTRA :  17791\n"
          ]
        }
      ],
      "source": [
        "def count_zero(column):\n",
        "    return taxi_df.filter(taxi_df[column] < 0).count()\n",
        "\n",
        "non_zero_columns = [\"PASSENGER_COUNT\", \"TRIP_DISTANCE\", \"FARE_AMOUNT\", \"TOTAL_AMOUNT\", \"CONGESTION_SURCHARGE\", \"IMPROVEMENT_SURCHARGE\", \"TOLLS_AMOUNT\", \"MTA_TAX\", \"TIP_AMOUNT\", \"EXTRA\"]\n",
        "def print_non_zero_count(columns) :\n",
        "    for column in columns:\n",
        "        print(column, \": \", count_zero(column))\n",
        "print_non_zero_count(non_zero_columns)\n"
      ]
    },
    {
      "cell_type": "markdown",
      "metadata": {
        "id": "Q4KpEPwQ0mQ_"
      },
      "source": [
        "Drop negative values"
      ]
    },
    {
      "cell_type": "code",
      "execution_count": null,
      "metadata": {
        "id": "Y-z0jmpV0mQ_"
      },
      "outputs": [],
      "source": [
        "def remove_zero(column):\n",
        "    global taxi_df  # Use global keyword to modify global variable\n",
        "    taxi_df = taxi_df.filter(taxi_df[column] >= 0)\n",
        "\n",
        "non_zero_columns = [\"PASSENGER_COUNT\", \"TRIP_DISTANCE\", \"FARE_AMOUNT\", \"TOTAL_AMOUNT\", \"CONGESTION_SURCHARGE\", \"IMPROVEMENT_SURCHARGE\", \"TOLLS_AMOUNT\", \"MTA_TAX\", \"TIP_AMOUNT\", \"EXTRA\"]\n",
        "def non_zero(columns):\n",
        "    for column in columns:\n",
        "        remove_zero(column)\n",
        "\n",
        "# Call the non_zero function\n",
        "non_zero(non_zero_columns)\n"
      ]
    },
    {
      "cell_type": "code",
      "execution_count": null,
      "metadata": {
        "id": "cuBmhNFh0mQ_",
        "outputId": "7cf09f0d-04c7-4033-e9e6-7066b17e36ff",
        "colab": {
          "base_uri": "https://localhost:8080/"
        }
      },
      "outputs": [
        {
          "output_type": "execute_result",
          "data": {
            "text/plain": [
              "11788297"
            ]
          },
          "metadata": {},
          "execution_count": 88
        }
      ],
      "source": [
        "taxi_df.count()"
      ]
    },
    {
      "cell_type": "code",
      "execution_count": null,
      "metadata": {
        "id": "dQyPRPGp0mQ_",
        "outputId": "77c7e765-77b6-4462-c5b5-ebf0955eea78",
        "colab": {
          "base_uri": "https://localhost:8080/"
        }
      },
      "outputs": [
        {
          "output_type": "stream",
          "name": "stdout",
          "text": [
            "PASSENGER_COUNT :  0\n",
            "TRIP_DISTANCE :  0\n",
            "FARE_AMOUNT :  0\n",
            "TOTAL_AMOUNT :  0\n",
            "CONGESTION_SURCHARGE :  0\n",
            "IMPROVEMENT_SURCHARGE :  0\n",
            "TOLLS_AMOUNT :  0\n",
            "MTA_TAX :  0\n",
            "TIP_AMOUNT :  0\n",
            "EXTRA :  0\n"
          ]
        }
      ],
      "source": [
        "print_non_zero_count(non_zero_columns)\n"
      ]
    },
    {
      "cell_type": "code",
      "source": [
        "taxi_df.toPandas().columns"
      ],
      "metadata": {
        "colab": {
          "base_uri": "https://localhost:8080/"
        },
        "id": "qfuRznhkIjul",
        "outputId": "51896570-85f8-4734-d5dc-a214b3108b75"
      },
      "execution_count": null,
      "outputs": [
        {
          "output_type": "execute_result",
          "data": {
            "text/plain": [
              "1.0"
            ]
          },
          "metadata": {},
          "execution_count": 102
        }
      ]
    },
    {
      "cell_type": "code",
      "source": [
        "def remove_outliers_iqr(df, column):\n",
        "    Q1,Q3 = taxi_df.stat.approx_quantile(column,[0.25,0.75])\n",
        "    IQR = Q3 - Q1\n",
        "    lower_bound = Q1 - 1.5 * IQR\n",
        "    upper_bound = Q3 + 1.5 * IQR\n",
        "    return df.filter((df[column] >= lower_bound) & (df[column] <= upper_bound))\n",
        "\n",
        "numerical_columns = ['PASSENGER_COUNT','TIP_AMOUNT','TOLLS_AMOUNT']\n",
        "for column in numerical_columns:\n",
        "    taxi_df = remove_outliers_iqr(taxi_df, column)\n",
        "\n",
        "taxi_df.count()"
      ],
      "metadata": {
        "colab": {
          "base_uri": "https://localhost:8080/"
        },
        "id": "ma9mOCZnDljU",
        "outputId": "8396605f-e62e-43ae-f206-9d8b977c0cdf"
      },
      "execution_count": null,
      "outputs": [
        {
          "output_type": "execute_result",
          "data": {
            "text/plain": [
              "10191114"
            ]
          },
          "metadata": {},
          "execution_count": 100
        }
      ]
    },
    {
      "cell_type": "markdown",
      "source": [
        "Removed around 1.6M rows of data due to outliers"
      ],
      "metadata": {
        "id": "AvEjv40aJDJY"
      }
    },
    {
      "cell_type": "code",
      "execution_count": null,
      "metadata": {
        "id": "ozLlk_Cv0mRA",
        "outputId": "0b90067d-fd51-4a24-dd57-f9bcf5a255fa",
        "colab": {
          "base_uri": "https://localhost:8080/"
        }
      },
      "outputs": [
        {
          "output_type": "execute_result",
          "data": {
            "text/plain": [
              "10106061"
            ]
          },
          "metadata": {},
          "execution_count": 103
        }
      ],
      "source": [
        "#remove trips with zero distance\n",
        "taxi_df=taxi_df.filter((taxi_df[\"TRIP_DISTANCE\"] > 0))\n",
        "taxi_df.count()\n"
      ]
    },
    {
      "cell_type": "markdown",
      "source": [
        "Removed around 100K of rows due to misleading trip distance"
      ],
      "metadata": {
        "id": "l4cEn3qEJaVq"
      }
    },
    {
      "cell_type": "markdown",
      "source": [
        "Dropping extra columns we dont't need"
      ],
      "metadata": {
        "id": "1-hSLf4wOGjt"
      }
    },
    {
      "cell_type": "code",
      "source": [
        "taxi_df=taxi_df.drop(\"TPEP_PICKUP_DATETIME\",\"TPEP_DROPOFF_DATETIME\",\"RATECODEID\",\"STORE_AND_FWD_FLAG\")"
      ],
      "metadata": {
        "id": "Ycxopm7jKmVE"
      },
      "execution_count": null,
      "outputs": []
    },
    {
      "cell_type": "markdown",
      "source": [
        "Converting payment type to string as it should represent a category not a numverical value"
      ],
      "metadata": {
        "id": "0ttpzAbpOJRA"
      }
    },
    {
      "cell_type": "code",
      "source": [
        "col_casted_to_string=['PAYMENT_TYPE']\n",
        "final_columnes_to_keep=[]\n",
        "for column in taxi_df.columns:\n",
        "  if column not in col_casted_to_string:\n",
        "    final_columnes_to_keep.append(col(column))\n",
        "  else:\n",
        "    final_columnes_to_keep.append(col(column).cast(\"string(5)\").as_(column))\n",
        "\n",
        "taxi_df=taxi_df.select(final_columnes_to_keep)\n",
        "taxi_df.dtypes"
      ],
      "metadata": {
        "colab": {
          "base_uri": "https://localhost:8080/"
        },
        "id": "2UXVbNKGNGnI",
        "outputId": "df12da3d-7604-48a6-f88f-edff6b1c7732"
      },
      "execution_count": null,
      "outputs": [
        {
          "output_type": "execute_result",
          "data": {
            "text/plain": [
              "[('VENDORID', 'double'),\n",
              " ('PASSENGER_COUNT', 'double'),\n",
              " ('TRIP_DISTANCE', 'double'),\n",
              " ('PULOCATIONID', 'bigint'),\n",
              " ('DOLOCATIONID', 'bigint'),\n",
              " ('PAYMENT_TYPE', 'string(5)'),\n",
              " ('FARE_AMOUNT', 'double'),\n",
              " ('EXTRA', 'double'),\n",
              " ('MTA_TAX', 'double'),\n",
              " ('TIP_AMOUNT', 'double'),\n",
              " ('TOLLS_AMOUNT', 'double'),\n",
              " ('IMPROVEMENT_SURCHARGE', 'double'),\n",
              " ('TOTAL_AMOUNT', 'double'),\n",
              " ('CONGESTION_SURCHARGE', 'double'),\n",
              " ('PICKUP_TIMESTAMP', 'timestamp'),\n",
              " ('DROPOFF_TIMESTAMP', 'timestamp')]"
            ]
          },
          "metadata": {},
          "execution_count": 124
        }
      ]
    },
    {
      "cell_type": "markdown",
      "source": [
        "Saving cleaned verison of the data"
      ],
      "metadata": {
        "id": "zNAlsjPJOWya"
      }
    },
    {
      "cell_type": "code",
      "execution_count": null,
      "metadata": {
        "id": "YRwpGnPd0mRB"
      },
      "outputs": [],
      "source": [
        "taxi_df.write .mode(\"overwrite\").save_as_table(\"TAXI_TRIPS_CLEANED\") ## write the dataframe into a table"
      ]
    },
    {
      "cell_type": "code",
      "execution_count": null,
      "metadata": {
        "id": "33xeibiu0mRB",
        "outputId": "db851537-59cf-48db-bc5b-c974a8c73414",
        "colab": {
          "base_uri": "https://localhost:8080/"
        }
      },
      "outputs": [
        {
          "output_type": "stream",
          "name": "stdout",
          "text": [
            "---------------------------------------------------------------------------------------------------------------------------------------------------------------------------------------------------------------------------------------------------------------------------------------------\n",
            "|\"VENDORID\"  |\"PASSENGER_COUNT\"  |\"TRIP_DISTANCE\"  |\"PULOCATIONID\"  |\"DOLOCATIONID\"  |\"PAYMENT_TYPE\"  |\"FARE_AMOUNT\"  |\"EXTRA\"  |\"MTA_TAX\"  |\"TIP_AMOUNT\"  |\"TOLLS_AMOUNT\"  |\"IMPROVEMENT_SURCHARGE\"  |\"TOTAL_AMOUNT\"  |\"CONGESTION_SURCHARGE\"  |\"PICKUP_TIMESTAMP\"   |\"DROPOFF_TIMESTAMP\"  |\n",
            "---------------------------------------------------------------------------------------------------------------------------------------------------------------------------------------------------------------------------------------------------------------------------------------------\n",
            "|1.0         |1.0                |0.9              |148             |79              |1               |6.0            |3.0      |0.5        |1.95          |0.0             |0.3                      |11.75           |2.5                     |2020-01-10 20:21:26  |2020-01-10 20:28:00  |\n",
            "|1.0         |1.0                |0.7              |164             |162             |1               |5.0            |3.0      |0.5        |2.5           |0.0             |0.3                      |11.3            |2.5                     |2020-01-10 20:37:22  |2020-01-10 20:41:34  |\n",
            "|1.0         |1.0                |2.0              |162             |79              |1               |9.0            |3.0      |0.5        |3.8           |0.0             |0.3                      |16.6            |2.5                     |2020-01-10 20:43:17  |2020-01-10 20:53:21  |\n",
            "|1.0         |1.0                |3.5              |186             |239             |1               |14.5           |3.0      |0.5        |2.75          |0.0             |0.3                      |21.05           |2.5                     |2020-01-10 20:06:48  |2020-01-10 20:24:58  |\n",
            "|1.0         |1.0                |0.4              |142             |142             |1               |3.5            |3.0      |0.5        |1.45          |0.0             |0.3                      |8.75            |2.5                     |2020-01-10 20:33:41  |2020-01-10 20:35:58  |\n",
            "|1.0         |1.0                |1.4              |163             |239             |2               |7.5            |3.0      |0.5        |0.0           |0.0             |0.3                      |11.3            |2.5                     |2020-01-10 20:39:54  |2020-01-10 20:48:28  |\n",
            "|1.0         |1.0                |1.6              |239             |161             |2               |9.0            |3.0      |0.5        |0.0           |0.0             |0.3                      |12.8            |2.5                     |2020-01-10 20:51:05  |2020-01-10 21:03:16  |\n",
            "|2.0         |1.0                |34.01            |138             |265             |1               |87.5           |1.0      |0.5        |0.0           |0.0             |0.3                      |89.3            |0.0                     |2020-01-10 20:05:50  |2020-01-10 20:59:05  |\n",
            "|2.0         |2.0                |9.08             |132             |93              |2               |25.5           |0.5      |0.5        |0.0           |0.0             |0.3                      |26.8            |0.0                     |2020-01-10 20:14:10  |2020-01-10 20:27:45  |\n",
            "|1.0         |1.0                |1.4              |162             |186             |2               |9.0            |3.0      |0.5        |0.0           |0.0             |0.3                      |12.8            |2.5                     |2020-01-10 20:33:53  |2020-01-10 20:45:43  |\n",
            "---------------------------------------------------------------------------------------------------------------------------------------------------------------------------------------------------------------------------------------------------------------------------------------------\n",
            "\n"
          ]
        }
      ],
      "source": [
        "query = \"\"\"\n",
        "SELECT * FROM TAXI_TRIPS_CLEANED\n",
        "limit 10\n",
        "\"\"\"\n",
        "\n",
        "snowpark_session.sql(query).show()"
      ]
    },
    {
      "cell_type": "code",
      "execution_count": null,
      "metadata": {
        "id": "9YCjHGbF0mRC"
      },
      "outputs": [],
      "source": [
        "snowpark_session.close()"
      ]
    }
  ],
  "metadata": {
    "kernelspec": {
      "display_name": "Python 3",
      "language": "python",
      "name": "python3"
    },
    "language_info": {
      "codemirror_mode": {
        "name": "ipython",
        "version": 3
      },
      "file_extension": ".py",
      "mimetype": "text/x-python",
      "name": "python",
      "nbconvert_exporter": "python",
      "pygments_lexer": "ipython3",
      "version": "3.11.8"
    },
    "colab": {
      "provenance": []
    }
  },
  "nbformat": 4,
  "nbformat_minor": 0
}